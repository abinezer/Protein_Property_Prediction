{
 "cells": [
  {
   "cell_type": "code",
   "execution_count": 1,
   "metadata": {},
   "outputs": [],
   "source": [
    "import torch\n",
    "import torch.nn as nn\n",
    "import prody as pr\n",
    "import numpy as np\n",
    "import matplotlib.pyplot as plt\n",
    "from torch_geometric.data import Data, DataLoader\n",
    "from torch_geometric.nn import MessagePassing, global_mean_pool\n",
    "from scipy.spatial.distance import cdist\n",
    "from sklearn.model_selection import train_test_split\n",
    "from sklearn.metrics import mean_squared_error, mean_absolute_error, r2_score"
   ]
  },
  {
   "cell_type": "code",
   "execution_count": 2,
   "metadata": {},
   "outputs": [],
   "source": [
    "# Load the data\n",
    "data = {}\n",
    "with open(\"<path_to_labels>\", \"r\") as file:\n",
    "    for line in file:\n",
    "        line = line.strip().split()\n",
    "        key = line[0]\n",
    "        value = float(line[1])\n",
    "        data[key] = value\n",
    "\n",
    "# Split the data into train and test sets\n",
    "train_data, test_data = train_test_split(list(data.items()), test_size=0.2, random_state=42)"
   ]
  },
  {
   "cell_type": "code",
   "execution_count": 3,
   "metadata": {},
   "outputs": [],
   "source": [
    "def load_protein_structure(file_path):\n",
    "    return pr.parsePDB(file_path)\n"
   ]
  },
  {
   "cell_type": "code",
   "execution_count": 4,
   "metadata": {},
   "outputs": [],
   "source": [
    "def create_data_loader(data):\n",
    "    data_list = []\n",
    "    for key, value in data:\n",
    "        data_path = fr\"<path_to_protein_structure>.pdb\"\n",
    "        protein_structure = load_protein_structure(data_path)\n",
    "        protein_structure = protein_structure.select('name CA')\n",
    "        positions = protein_structure.getCoords()\n",
    "\n",
    "        # Compute distance matrix\n",
    "        distances = cdist(positions, positions)\n",
    "\n",
    "        # Create adjacency matrix based on distance threshold\n",
    "        threshold = 20.0\n",
    "        adjacency = distances < threshold\n",
    "\n",
    "        np.fill_diagonal(adjacency, 0) #removing self loops\n",
    "\n",
    "        # Convert data to PyTorch tensors\n",
    "        positions_tensor = torch.tensor(positions, dtype=torch.float)\n",
    "        adjacency_tensor = torch.tensor(adjacency, dtype=torch.float)\n",
    "        labels_tensor = torch.tensor([value], dtype=torch.float)  # Assuming you have labels for the dataset\n",
    "\n",
    "        # Convert adjacency matrix to edge indices\n",
    "        edge_indices = torch.where(adjacency_tensor)\n",
    "        edge_indices_tensor = torch.stack(edge_indices).long()\n",
    "\n",
    "        # Create a PyTorch Geometric Data object\n",
    "        data = Data(x=positions_tensor, edge_index=edge_indices_tensor, y=labels_tensor)\n",
    "        data_list.append(data)\n",
    "        \n",
    "        # Create a DataLoader for batching the data during training\n",
    "    loader = DataLoader(data_list, batch_size=1)\n",
    "    return loader"
   ]
  },
  {
   "cell_type": "code",
   "execution_count": 5,
   "metadata": {},
   "outputs": [
    {
     "name": "stderr",
     "output_type": "stream",
     "text": [
      "@> 2036 atoms and 1 coordinate set(s) were parsed in 0.03s.\n",
      "@> 9752 atoms and 1 coordinate set(s) were parsed in 0.10s.\n",
      "@> 2976 atoms and 1 coordinate set(s) were parsed in 0.08s.\n",
      "@> 5384 atoms and 1 coordinate set(s) were parsed in 0.06s.\n",
      "@> 3108 atoms and 1 coordinate set(s) were parsed in 0.03s.\n",
      "@> 1337 atoms and 1 coordinate set(s) were parsed in 0.01s.\n",
      "@> 9606 atoms and 1 coordinate set(s) were parsed in 0.09s.\n",
      "@> 12144 atoms and 1 coordinate set(s) were parsed in 0.13s.\n",
      "@> 1101 atoms and 1 coordinate set(s) were parsed in 0.01s.\n",
      "@> 2018 atoms and 1 coordinate set(s) were parsed in 0.02s.\n",
      "@> 4525 atoms and 1 coordinate set(s) were parsed in 0.05s.\n",
      "@> 1337 atoms and 1 coordinate set(s) were parsed in 0.01s.\n",
      "@> 4396 atoms and 1 coordinate set(s) were parsed in 0.04s.\n",
      "@> 15912 atoms and 1 coordinate set(s) were parsed in 0.15s.\n",
      "@> 3224 atoms and 1 coordinate set(s) were parsed in 0.04s.\n",
      "@> 2248 atoms and 1 coordinate set(s) were parsed in 0.03s.\n",
      "@> 1348 atoms and 1 coordinate set(s) were parsed in 0.02s.\n",
      "@> 2248 atoms and 1 coordinate set(s) were parsed in 0.03s.\n",
      "@> 2792 atoms and 1 coordinate set(s) were parsed in 0.03s.\n",
      "@> 3396 atoms and 1 coordinate set(s) were parsed in 0.03s.\n",
      "@> 3315 atoms and 1 coordinate set(s) were parsed in 0.04s.\n",
      "@> 2792 atoms and 1 coordinate set(s) were parsed in 0.04s.\n",
      "@> 2792 atoms and 1 coordinate set(s) were parsed in 0.03s.\n",
      "@> 9662 atoms and 1 coordinate set(s) were parsed in 0.09s.\n",
      "@> 9660 atoms and 1 coordinate set(s) were parsed in 0.10s.\n",
      "@> 6640 atoms and 1 coordinate set(s) were parsed in 0.07s.\n",
      "@> 2393 atoms and 1 coordinate set(s) were parsed in 0.03s.\n",
      "@> 1337 atoms and 1 coordinate set(s) were parsed in 0.01s.\n",
      "@> 12144 atoms and 1 coordinate set(s) were parsed in 0.12s.\n",
      "@> 15912 atoms and 1 coordinate set(s) were parsed in 0.16s.\n",
      "@> 2792 atoms and 1 coordinate set(s) were parsed in 0.03s.\n",
      "@> 2248 atoms and 1 coordinate set(s) were parsed in 0.01s.\n",
      "@> 2033 atoms and 1 coordinate set(s) were parsed in 0.02s.\n",
      "c:\\Users\\t-aebenezer\\AppData\\Local\\Programs\\Python\\Python310\\lib\\site-packages\\torch_geometric\\deprecation.py:22: UserWarning: 'data.DataLoader' is deprecated, use 'loader.DataLoader' instead\n",
      "  warnings.warn(out)\n",
      "@> 3327 atoms and 1 coordinate set(s) were parsed in 0.04s.\n",
      "@> 1337 atoms and 1 coordinate set(s) were parsed in 0.01s.\n",
      "@> 1734 atoms and 1 coordinate set(s) were parsed in 0.02s.\n",
      "@> 1417 atoms and 1 coordinate set(s) were parsed in 0.01s.\n",
      "@> 3183 atoms and 1 coordinate set(s) were parsed in 0.03s.\n",
      "@> 2064 atoms and 1 coordinate set(s) were parsed in 0.02s.\n",
      "@> 3085 atoms and 1 coordinate set(s) were parsed in 0.03s.\n",
      "@> 3088 atoms and 1 coordinate set(s) were parsed in 0.03s.\n",
      "@> 2222 atoms and 1 coordinate set(s) were parsed in 0.03s.\n"
     ]
    }
   ],
   "source": [
    "train_data_loader = create_data_loader(train_data)\n",
    "test_data_loader = create_data_loader(test_data)"
   ]
  },
  {
   "cell_type": "code",
   "execution_count": 6,
   "metadata": {},
   "outputs": [],
   "source": [
    "# Define the SchNet convolutional layer\n",
    "\n",
    "class SchNetConv(MessagePassing):\n",
    "    def __init__(self, input_dim, hidden_dim):\n",
    "        super(SchNetConv, self).__init__(aggr='add')\n",
    "        self.mlp = nn.Sequential(\n",
    "            nn.Linear(input_dim, hidden_dim),\n",
    "            nn.ReLU(),\n",
    "            nn.Linear(hidden_dim, hidden_dim)\n",
    "        )\n",
    "\n",
    "    def forward(self, x, edge_index):\n",
    "        x = self.mlp(x)\n",
    "        return self.propagate(edge_index, x=x)\n",
    "\n",
    "    def message(self, x_j):\n",
    "        return x_j\n",
    "\n",
    "    def update(self, aggr_out, x):\n",
    "        return aggr_out + x\n",
    "\n",
    "# Define the SchNet model\n",
    "class SchNet(nn.Module):\n",
    "    def __init__(self, input_dim, hidden_dim, output_dim):\n",
    "        super(SchNet, self).__init__()\n",
    "        self.conv1 = SchNetConv(input_dim, hidden_dim)\n",
    "        self.fc1 = nn.Linear(hidden_dim, hidden_dim)\n",
    "        self.fc2 = nn.Linear(hidden_dim, output_dim)\n",
    "\n",
    "    def forward(self, x, edge_index, batch):\n",
    "        edge_index = edge_index.to(torch.int64)\n",
    "        x = self.conv1(x, edge_index)\n",
    "        x = self.fc1(x)\n",
    "        x = global_mean_pool(x, batch)\n",
    "        x = self.fc2(x)\n",
    "        x = torch.squeeze(x, dim=0)\n",
    "        return x\n",
    "\n",
    "# Create an instance of the SchNet model\n",
    "model = SchNet(input_dim=3, hidden_dim=64, output_dim=1)\n"
   ]
  },
  {
   "cell_type": "code",
   "execution_count": 7,
   "metadata": {},
   "outputs": [
    {
     "name": "stdout",
     "output_type": "stream",
     "text": [
      "Epoch 1, Loss: 293625.3371\n",
      "Epoch 2, Loss: 199105.6455\n",
      "Epoch 3, Loss: 14283.8820\n",
      "Epoch 4, Loss: 7156.3259\n",
      "Epoch 5, Loss: 7232.9183\n",
      "------------------------Done Training----------------------\n"
     ]
    },
    {
     "data": {
      "image/png": "[encoded data removed]",
      "text/plain": [
       "<Figure size 640x480 with 1 Axes>"
      ]
     },
     "metadata": {},
     "output_type": "display_data"
    }
   ],
   "source": [
    "# Define the number of epochs\n",
    "num_epochs = 5\n",
    "device = torch.device('cuda' if torch.cuda.is_available() else 'cpu')\n",
    "model = model.to(device)\n",
    "# Define the loss function\n",
    "criterion = nn.MSELoss()\n",
    "\n",
    "# Define the optimizer\n",
    "optimizer = torch.optim.Adam(model.parameters(), lr=0.001)\n",
    "\n",
    "# Set the model in training mode\n",
    "model.train()\n",
    "\n",
    "# Initialize an empty list to store the loss values\n",
    "losses = []\n",
    "\n",
    "# Training loop\n",
    "for epoch in range(num_epochs):\n",
    "    total_loss = 0\n",
    "\n",
    "    # Iterate over the training data\n",
    "    for data in train_data_loader:\n",
    "        # Extract the input features and target labels\n",
    "        inputs, edge_index, target = data.x, data.edge_index, data.y\n",
    "\n",
    "        # Clear the gradients\n",
    "        optimizer.zero_grad()\n",
    "\n",
    "        # Forward pass\n",
    "        outputs = model(inputs, edge_index, batch=data.batch)\n",
    "\n",
    "        # Calculate the loss\n",
    "        loss = criterion(outputs, target)\n",
    "\n",
    "        # Backward pass\n",
    "        loss.backward()\n",
    "\n",
    "        # Update the model parameters\n",
    "        optimizer.step()\n",
    "\n",
    "        # Accumulate the total loss\n",
    "        total_loss += loss.item()\n",
    "\n",
    "    # Compute the average loss for the epoch\n",
    "    average_loss = total_loss / len(train_data_loader)\n",
    "    losses.append(average_loss)\n",
    "\n",
    "    # Print the loss for each epoch\n",
    "    print(f\"Epoch {epoch + 1}, Loss: {average_loss:.4f}\")\n",
    "print('------------------------Done Training----------------------')\n",
    "\n",
    "# Plot the loss values\n",
    "plt.plot(range(1, num_epochs + 1), losses)\n",
    "plt.xlabel('Epoch')\n",
    "plt.ylabel('Loss')\n",
    "plt.title('Training Loss')\n",
    "plt.show()\n"
   ]
  },
  {
   "cell_type": "code",
   "execution_count": 8,
   "metadata": {},
   "outputs": [],
   "source": [
    "# Inference\n",
    "model.eval()\n",
    "predictions = []\n",
    "labels = []\n",
    "with torch.no_grad():\n",
    "    for test_batch in test_data_loader:\n",
    "        data = test_batch.to(device)\n",
    "        output = model(data.x, data.edge_index, batch=test_batch.batch)\n",
    "        predictions.append(output.cpu().numpy())\n",
    "        labels.append(data.y.cpu().numpy())"
   ]
  },
  {
   "cell_type": "code",
   "execution_count": 9,
   "metadata": {},
   "outputs": [
    {
     "data": {
      "text/plain": [
       "[array([31.988775], dtype=float32),\n",
       " array([17.888533], dtype=float32),\n",
       " array([73.23052], dtype=float32),\n",
       " array([16.244852], dtype=float32),\n",
       " array([25.457417], dtype=float32),\n",
       " array([34.88753], dtype=float32),\n",
       " array([59.255177], dtype=float32),\n",
       " array([27.880842], dtype=float32),\n",
       " array([20.23753], dtype=float32)]"
      ]
     },
     "execution_count": 9,
     "metadata": {},
     "output_type": "execute_result"
    }
   ],
   "source": [
    "predictions"
   ]
  },
  {
   "cell_type": "code",
   "execution_count": 10,
   "metadata": {},
   "outputs": [
    {
     "data": {
      "text/plain": [
       "[array([79.286], dtype=float32),\n",
       " array([31.881], dtype=float32),\n",
       " array([41.357], dtype=float32),\n",
       " array([33.786], dtype=float32),\n",
       " array([75.857], dtype=float32),\n",
       " array([49.214], dtype=float32),\n",
       " array([73.524], dtype=float32),\n",
       " array([73.595], dtype=float32),\n",
       " array([52.976], dtype=float32)]"
      ]
     },
     "execution_count": 10,
     "metadata": {},
     "output_type": "execute_result"
    }
   ],
   "source": [
    "labels"
   ]
  },
  {
   "cell_type": "code",
   "execution_count": 11,
   "metadata": {},
   "outputs": [
    {
     "name": "stdout",
     "output_type": "stream",
     "text": [
      "Mean Squared Error (MSE): 1096.3319\n",
      "Root Mean Squared Error (RMSE): 33.110905\n",
      "Mean Absolute Error (MAE): 29.794655\n",
      "R-squared (R2): -2.4120537788681387\n"
     ]
    }
   ],
   "source": [
    "# Calculate evaluation metrics\n",
    "mse = mean_squared_error(labels, predictions)\n",
    "rmse = np.sqrt(mse)\n",
    "mae = mean_absolute_error(labels, predictions)\n",
    "r2 = r2_score(labels, predictions)\n",
    "\n",
    "# Print the metrics\n",
    "print(\"Mean Squared Error (MSE):\", mse)\n",
    "print(\"Root Mean Squared Error (RMSE):\", rmse)\n",
    "print(\"Mean Absolute Error (MAE):\", mae)\n",
    "print(\"R-squared (R2):\", r2)\n"
   ]
  },
  {
   "cell_type": "code",
   "execution_count": null,
   "metadata": {},
   "outputs": [],
   "source": []
  }
 ],
 "metadata": {
  "kernelspec": {
   "display_name": "Python 3",
   "language": "python",
   "name": "python3"
  },
  "language_info": {
   "codemirror_mode": {
    "name": "ipython",
    "version": 3
   },
   "file_extension": ".py",
   "mimetype": "text/x-python",
   "name": "python",
   "nbconvert_exporter": "python",
   "pygments_lexer": "ipython3",
   "version": "3.10.0"
  },
  "orig_nbformat": 4
 },
 "nbformat": 4,
 "nbformat_minor": 2
}
